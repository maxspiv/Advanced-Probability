{
 "cells": [
  {
   "cell_type": "markdown",
   "id": "85d1330e",
   "metadata": {},
   "source": [
    "The pond function simluates how many amoebae are left after 1 minute/cycle."
   ]
  },
  {
   "cell_type": "code",
   "execution_count": 30,
   "id": "9a63992b",
   "metadata": {},
   "outputs": [],
   "source": [
    "import numpy as np\n",
    "import pandas as pd\n",
    "def pond(k,p_die,p_doubled):\n",
    "    '''\n",
    "    k: number of amoebae\n",
    "    p_die: probability that an amoeba dies\n",
    "    p_doubled: probability that an amoeba doubles\n",
    "    returns the number of amoebae left after one minute\n",
    "    '''\n",
    "    amoeba = np.random.rand(k) #assign each amoeba a random number 0-1\n",
    "    died = (amoeba < p_die).astype(int).sum() #kill all amoebae under p_die\n",
    "    doubled = (amoeba > 1-p_doubled).astype(int).sum() #double all amoebae greater than p_doubled\n",
    "    survived = k - died - doubled #rest of the amoebae survive but don't duplicate. died and doubled are disjoint.\n",
    "    return survived + 2*doubled"
   ]
  },
  {
   "cell_type": "markdown",
   "id": "ff9fc707",
   "metadata": {},
   "source": [
    "The simulate function runs through the pond function m times, each time updating the number of amoebae in the pond."
   ]
  },
  {
   "cell_type": "code",
   "execution_count": 25,
   "id": "d108ff2b",
   "metadata": {},
   "outputs": [],
   "source": [
    "def simulate(k,m,p_die,p_doubled):\n",
    "    '''\n",
    "    k: starting number of amoebae\n",
    "    m: number of cycles to simulate\n",
    "    p_die: probability that an amoeba dies\n",
    "    p_doubled: probability that an amoeba doubles\n",
    "    returns number of amoebae after all m minutes\n",
    "    '''\n",
    "    while m > 0:\n",
    "        k = pond(k,p_die,p_doubled)\n",
    "        m -= 1\n",
    "    return k"
   ]
  },
  {
   "cell_type": "markdown",
   "id": "11d9fac3",
   "metadata": {},
   "source": [
    "Simulate 1000 times, each time going for 50 \"minutes\"."
   ]
  },
  {
   "cell_type": "code",
   "execution_count": 26,
   "id": "676997b0",
   "metadata": {},
   "outputs": [],
   "source": [
    "amoebae = [simulate(1,50,0.25,0.5) for _ in range(1000)]"
   ]
  },
  {
   "cell_type": "code",
   "execution_count": 27,
   "id": "bc18c117",
   "metadata": {},
   "outputs": [],
   "source": [
    "amoebae = np.asarray(amoebae)"
   ]
  },
  {
   "cell_type": "markdown",
   "id": "3606e0b8",
   "metadata": {},
   "source": [
    "Find out what percentage of ponds have 0 amoebae (extinction)."
   ]
  },
  {
   "cell_type": "code",
   "execution_count": 28,
   "id": "fa48d0ff",
   "metadata": {},
   "outputs": [
    {
     "data": {
      "text/plain": [
       "0.502"
      ]
     },
     "execution_count": 28,
     "metadata": {},
     "output_type": "execute_result"
    }
   ],
   "source": [
    "(amoebae == 0).mean()"
   ]
  },
  {
   "cell_type": "markdown",
   "id": "fc811ead",
   "metadata": {},
   "source": [
    "Display histogram of amoebae counts."
   ]
  },
  {
   "cell_type": "code",
   "execution_count": 31,
   "id": "96d02504",
   "metadata": {},
   "outputs": [],
   "source": [
    "df = pd.Series(amoebae)"
   ]
  },
  {
   "cell_type": "code",
   "execution_count": 39,
   "id": "48dafcb2",
   "metadata": {},
   "outputs": [
    {
     "data": {
      "text/plain": [
       "<AxesSubplot:ylabel='Frequency'>"
      ]
     },
     "execution_count": 39,
     "metadata": {},
     "output_type": "execute_result"
    },
    {
     "data": {
      "image/png": "[encoded data removed]",
      "text/plain": [
       "<Figure size 432x288 with 1 Axes>"
      ]
     },
     "metadata": {
      "needs_background": "light"
     },
     "output_type": "display_data"
    }
   ],
   "source": [
    "df.plot.hist(20)"
   ]
  }
 ],
 "metadata": {
  "kernelspec": {
   "display_name": "Python 3",
   "language": "python",
   "name": "python3"
  },
  "language_info": {
   "codemirror_mode": {
    "name": "ipython",
    "version": 3
   },
   "file_extension": ".py",
   "mimetype": "text/x-python",
   "name": "python",
   "nbconvert_exporter": "python",
   "pygments_lexer": "ipython3",
   "version": "3.9.4"
  }
 },
 "nbformat": 4,
 "nbformat_minor": 5
}
