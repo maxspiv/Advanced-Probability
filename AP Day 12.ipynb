{
 "cells": [
  {
   "cell_type": "markdown",
   "id": "338a84c3",
   "metadata": {},
   "source": [
    "Uses Dynamic Program to calculate the optimal strategy (when to flip and when to stop and recieve the money)."
   ]
  },
  {
   "cell_type": "code",
   "execution_count": 1,
   "id": "535b7a45",
   "metadata": {},
   "outputs": [],
   "source": [
    "import matplotlib.pyplot as plt\n",
    "import numpy as np\n",
    "def game(heads,flips,depth=1000,memo=None):\n",
    "    '''\n",
    "    heads: number of flips that landed heads\n",
    "    flips: total number of flips\n",
    "    depth: depth of model. maximum 3000 (due to pythons recursion limit)\n",
    "    memo: dictionary where the key is (heads,flips) and the value is p, the ratio of heads to flips\n",
    "    returns p, the expected ratio of heads to flips with the best possible strategy, and memo\n",
    "    '''\n",
    "    key = (heads,flips)\n",
    "    n = depth\n",
    "    if memo is None:\n",
    "        memo = {}\n",
    "    if flips == 0:\n",
    "        p = 0\n",
    "    else: \n",
    "        p = heads/flips\n",
    "    if key in memo:\n",
    "        return memo[key],memo\n",
    "    memo[key] = p\n",
    "    if flips >= n: #1000 flips total. still very accurate.\n",
    "        return max(memo[key],0.5),memo #we know we can always reach p = 0.5 with infinite flips.\n",
    "    else:\n",
    "        next_tails = max(game(heads,flips+1,n,memo)[0],0.5) #flip tails.\n",
    "        next_heads = max(game(heads+1,flips+1,n,memo)[0],0.5) #flip heads. \n",
    "        memo[(heads,flips+1)] = next_tails\n",
    "        memo[(heads+1,flips+1)] = next_heads\n",
    "        if (next_tails+next_heads)/2 > p:\n",
    "            return (next_tails+next_heads)/2,memo\n",
    "        else: \n",
    "            return p,memo #p multiplied by one million gives the expected value with the optimal strategy."
   ]
  },
  {
   "cell_type": "code",
   "execution_count": 2,
   "id": "41bdbf03",
   "metadata": {
    "scrolled": true
   },
   "outputs": [],
   "source": [
    "def heatmap(memo):\n",
    "    '''\n",
    "    memo: memo returned from the game() function\n",
    "    returns a heatmap with the x axis as the number of heads and \n",
    "    the y axis as the number of flips. black represents scenarios \n",
    "    where the player should not flip again and yellow represents \n",
    "    scenarios where the expected value increases with another flip\n",
    "    '''\n",
    "    heat = np.zeros([1001,1001])\n",
    "    for key in memo:\n",
    "        if key[1] == 0:\n",
    "            heat[key] = 0\n",
    "        else:\n",
    "            if memo[key] > max(key[0]/key[1],0.5): #these scenarios is wh\n",
    "                heat[key] = memo[key]\n",
    "            else:\n",
    "                heat[key] = 0\n",
    "        if key[1]<key[0]:\n",
    "            heat[key] = 100\n",
    "    return plt.imshow(heat,cmap='hot',interpolation='nearest')"
   ]
  },
  {
   "cell_type": "code",
   "execution_count": 3,
   "id": "aa25acb7",
   "metadata": {
    "scrolled": false
   },
   "outputs": [
    {
     "data": {
      "text/plain": [
       "<matplotlib.image.AxesImage at 0x21cb1d800a0>"
      ]
     },
     "execution_count": 3,
     "metadata": {},
     "output_type": "execute_result"
    },
    {
     "data": {
      "image/png": "[encoded data removed]",
      "text/plain": [
       "<Figure size 432x288 with 1 Axes>"
      ]
     },
     "metadata": {
      "needs_background": "light"
     },
     "output_type": "display_data"
    }
   ],
   "source": [
    "heatmap(game(0,0,depth=1000)[1])"
   ]
  }
 ],
 "metadata": {
  "kernelspec": {
   "display_name": "Python 3",
   "language": "python",
   "name": "python3"
  },
  "language_info": {
   "codemirror_mode": {
    "name": "ipython",
    "version": 3
   },
   "file_extension": ".py",
   "mimetype": "text/x-python",
   "name": "python",
   "nbconvert_exporter": "python",
   "pygments_lexer": "ipython3",
   "version": "3.9.4"
  }
 },
 "nbformat": 4,
 "nbformat_minor": 5
}
